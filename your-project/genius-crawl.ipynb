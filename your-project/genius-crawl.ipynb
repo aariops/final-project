{
 "cells": [
  {
   "cell_type": "code",
   "execution_count": 1,
   "metadata": {},
   "outputs": [],
   "source": [
    "import requests, json\n",
    "from time import sleep\n",
    "import pandas as pd"
   ]
  },
  {
   "cell_type": "code",
   "execution_count": 2,
   "metadata": {},
   "outputs": [],
   "source": [
    "# constant values.\n",
    "BASE_URL = \"https://api.genius.com\"\n",
    "CLIENT_ACCESS_TOKEN = \"BRQeE9cIku1YupjujKosfrg9jo9IJE_bAk_-zsvYT305X0d1xWBHLrnJ11PbY4oS\"\n",
    "ARTIST_NAME = \"Profjam\""
   ]
  },
  {
   "cell_type": "code",
   "execution_count": 3,
   "metadata": {},
   "outputs": [],
   "source": [
    "# send request and get response in json format.\n",
    "def _get(path, params=None, headers=None):\n",
    "\n",
    "    # generate request URL\n",
    "    requrl = '/'.join([BASE_URL, path])\n",
    "    token = \"Bearer {}\".format(CLIENT_ACCESS_TOKEN)\n",
    "    if headers:\n",
    "        headers['Authorization'] = token\n",
    "    else:\n",
    "        headers = {\"Authorization\": token}\n",
    "\n",
    "    response = requests.get(url=requrl, params=params, headers=headers)\n",
    "    response.raise_for_status()\n",
    "\n",
    "    return response.json()"
   ]
  },
  {
   "cell_type": "code",
   "execution_count": 4,
   "metadata": {},
   "outputs": [],
   "source": [
    "def get_artist_songs(artist_id):\n",
    "    # initialize variables & a list.\n",
    "    current_page = 1\n",
    "    next_page = True\n",
    "    songs = []\n",
    "\n",
    "    # main loop\n",
    "    while next_page:\n",
    "\n",
    "        path = \"artists/{}/songs/\".format(artist_id)\n",
    "        params = {'page': current_page}\n",
    "        data = _get(path=path, params=params)\n",
    "\n",
    "        page_songs = data['response']['songs']\n",
    "\n",
    "        if page_songs:\n",
    "            # add all the songs of current page,\n",
    "            # and increment current_page value for next loop.\n",
    "            songs += page_songs\n",
    "            current_page += 1\n",
    "        else:\n",
    "            # if page_songs is empty, quit.\n",
    "            next_page = False\n",
    "\n",
    "    # get all the song ids, excluding not-primary-artist songs.\n",
    "    songs = [song[\"id\"] for song in songs\n",
    "             if song[\"primary_artist\"][\"id\"] == artist_id]\n",
    "\n",
    "    return songs"
   ]
  },
  {
   "cell_type": "code",
   "execution_count": 5,
   "metadata": {},
   "outputs": [],
   "source": [
    "def get_song_information(song_ids):\n",
    "    # initialize a dictionary.\n",
    "    song_list = {}\n",
    "\n",
    "    # main loop\n",
    "    for i, song_id in enumerate(song_ids):\n",
    "        print(\"id:\" + str(song_id) + \" start. ->\")\n",
    "\n",
    "        path = \"songs/{}\".format(song_id)\n",
    "        data = _get(path=path)[\"response\"][\"song\"]\n",
    "\n",
    "        song_list.update({\n",
    "        i: {\n",
    "            \"title\": data[\"title\"],\n",
    "            \"album\": data[\"album\"][\"name\"] if data[\"album\"] else \"<single>\",\n",
    "            \"release_date\": data[\"release_date\"] if data[\"release_date\"] else \"unidentified\",\n",
    "            \"featured_artists\":\n",
    "                [feat[\"name\"] if data[\"featured_artists\"] else \"\" for feat in data[\"featured_artists\"]],\n",
    "            \"producer_artists\":\n",
    "                [feat[\"name\"] if data[\"producer_artists\"] else \"\" for feat in data[\"producer_artists\"]],\n",
    "            \"writer_artists\":\n",
    "                [feat[\"name\"] if data[\"writer_artists\"] else \"\" for feat in data[\"writer_artists\"]],\n",
    "            \"genius_track_id\": song_id,\n",
    "            \"genius_album_id\": data[\"album\"][\"id\"] if data[\"album\"] else \"none\"}\n",
    "        })\n",
    "\n",
    "        print(\"-> id:\" + str(song_id) + \" is finished. \\n\")\n",
    "    return song_list\n",
    "\n",
    "# # # "
   ]
  },
  {
   "cell_type": "code",
   "execution_count": 6,
   "metadata": {},
   "outputs": [
    {
     "name": "stdout",
     "output_type": "stream",
     "text": [
      "searching Profjam's artist id. \n",
      "\n"
     ]
    },
    {
     "ename": "NameError",
     "evalue": "name 'artist_id' is not defined",
     "output_type": "error",
     "traceback": [
      "\u001b[0;31m---------------------------------------------------------------------------\u001b[0m",
      "\u001b[0;31mNameError\u001b[0m                                 Traceback (most recent call last)",
      "\u001b[0;32m<ipython-input-6-ba5119ad2930>\u001b[0m in \u001b[0;36m<module>\u001b[0;34m\u001b[0m\n\u001b[1;32m      8\u001b[0m         \u001b[0;32mbreak\u001b[0m\u001b[0;34m\u001b[0m\u001b[0;34m\u001b[0m\u001b[0m\n\u001b[1;32m      9\u001b[0m \u001b[0;34m\u001b[0m\u001b[0m\n\u001b[0;32m---> 10\u001b[0;31m \u001b[0mprint\u001b[0m\u001b[0;34m(\u001b[0m\u001b[0;34m\"-> \"\u001b[0m \u001b[0;34m+\u001b[0m \u001b[0mARTIST_NAME\u001b[0m \u001b[0;34m+\u001b[0m \u001b[0;34m\"'s id is \"\u001b[0m \u001b[0;34m+\u001b[0m \u001b[0mstr\u001b[0m\u001b[0;34m(\u001b[0m\u001b[0martist_id\u001b[0m\u001b[0;34m)\u001b[0m \u001b[0;34m+\u001b[0m \u001b[0;34m\"\\n\"\u001b[0m\u001b[0;34m)\u001b[0m\u001b[0;34m\u001b[0m\u001b[0;34m\u001b[0m\u001b[0m\n\u001b[0m\u001b[1;32m     11\u001b[0m \u001b[0;34m\u001b[0m\u001b[0m\n\u001b[1;32m     12\u001b[0m \u001b[0mprint\u001b[0m\u001b[0;34m(\u001b[0m\u001b[0;34m\"getting song ids. \\n\"\u001b[0m\u001b[0;34m)\u001b[0m\u001b[0;34m\u001b[0m\u001b[0;34m\u001b[0m\u001b[0m\n",
      "\u001b[0;31mNameError\u001b[0m: name 'artist_id' is not defined"
     ]
    }
   ],
   "source": [
    "print(\"searching \" + ARTIST_NAME + \"'s artist id. \\n\")\n",
    "\n",
    "# find artist id from given data.\n",
    "find_id = _get(\"search\", {'q': ARTIST_NAME})\n",
    "for hit in find_id[\"response\"][\"hits\"]:\n",
    "    if hit[\"result\"][\"primary_artist\"][\"name\"] == ARTIST_NAME:\n",
    "        artist_id = hit[\"result\"][\"primary_artist\"][\"id\"]\n",
    "        break\n",
    "\n",
    "print(\"-> \" + ARTIST_NAME + \"'s id is \" + str(artist_id) + \"\\n\")\n",
    "\n",
    "print(\"getting song ids. \\n\")\n",
    "\n",
    "# get all song ids and make a list.\n",
    "song_ids = get_artist_songs(artist_id)\n",
    "\n",
    "with open(\"./\" + ARTIST_NAME + \" Genius Song IDs.text\", \"w\") as f:\n",
    "    write(song_ids)\n",
    "\n",
    "print(song_ids)\n",
    "print(\"\\n-> got all the song ids. take a break for a while \\n\")\n",
    "\n",
    "sleep(30)\n",
    "\n",
    "print(\"getting metadata of each song. \\n\")\n",
    "\n",
    "# finally, make a full list of songs with meta data.\n",
    "full_list_of_songs = get_song_information(song_ids)\n",
    "\n",
    "print(\"-> Finished! Dump the data into json data. \\n\")\n",
    "\n",
    "with open(\"./\" + ARTIST_NAME + \" Songs.json\", \"w\") as f:\n",
    "    json.dump(full_list_of_songs, g)\n",
    "\n",
    "print(\"-> Mission complete! Check it out!\")"
   ]
  }
 ],
 "metadata": {
  "kernelspec": {
   "display_name": "Python 3",
   "language": "python",
   "name": "python3"
  },
  "language_info": {
   "codemirror_mode": {
    "name": "ipython",
    "version": 3
   },
   "file_extension": ".py",
   "mimetype": "text/x-python",
   "name": "python",
   "nbconvert_exporter": "python",
   "pygments_lexer": "ipython3",
   "version": "3.7.6"
  }
 },
 "nbformat": 4,
 "nbformat_minor": 4
}
