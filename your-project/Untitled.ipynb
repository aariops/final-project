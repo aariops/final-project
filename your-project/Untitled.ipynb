{
 "cells": [
  {
   "cell_type": "code",
   "execution_count": 22,
   "metadata": {},
   "outputs": [],
   "source": [
    "import pandas as pd\n",
    "import numpy as np\n",
    "from tqdm.notebook import tqdm\n",
    "import json\n",
    "import os\n",
    "import lyricsgenius as genius\n"
   ]
  },
  {
   "cell_type": "code",
   "execution_count": 97,
   "metadata": {},
   "outputs": [],
   "source": [
    "artist_list = [\"Alanis Morissette\", \"Alicia Keys\", \n",
    "               \"Alison Moyet\", \"All Saints\", \"Amy Macdonald\", \"Amy Winehouse\", \"Angel Olsen\", \n",
    "               \"Angie Stone\", \"Ani DiFranco\", \"Anna Calvi\", \"Anna Wise\", \"Anne-Marie\", \n",
    "               \"Annie Lennox\", \"Aretha Franklin\", \"Ariana Grande\", \"Ashley Tisdale\", \"Avril Lavigne\", \n",
    "               \"Azealia Banks\", \"Banks\", \"Barbra Streisand\", \"Bat for Lashes\", \"Bea Miller\", \n",
    "               \"Bebe Rexha\", \"Beyoncé\", \"Billie Eilish\", \"Billie Holliday\", \"Billie Marten\", \n",
    "               \"Bjork\", \"Brandi Carlisle\", \"Brandy\", \"Britney Spears\", \"Camila Cabello\", \n",
    "               \"Cardi B\", \"Carole King\", \"Carrie Underwood\", \"Carly Rae Jepsen\", \"Cat Power\", \n",
    "               \"Celine Dion\", \"Chaka Khan\", \"Charli XCX\", \"Cher\", \"Cheryl\", \n",
    "               \"Christina Aguilera\", \"Christine and the Queens\", \"Ciara\", \"Cindy Lauper\", \"Corinne Bailey Rae\", \n",
    "               \"Demi Lovato\", \"Destiny\\'s Child\", \"Diana Krall\", \"Diana Ross\", \"Dido\", \n",
    "               \"Dionne Warwick\", \"Dinah Washington\", \"Dolly Parton\", \"Donna Summer\", \n",
    "               \"Dusty Springfield\", \"Ella Fitzgerald\", \"Ella Henderson\", \"Ellie Goulding\", \"Emeli Sandé\", \n",
    "               \"Emily King\", \"En Vogue\", \"Etta James\", \"Erykah Badu\", \"Eva Cassidy\", \n",
    "               \"Faith Evans\", \"Feist\", \"Fifth Harmony\", \"Fiona Apple\", \"First Aid Kit\", \n",
    "               \"FKA Twigs\", \"Florence and the Machine\", \"Foxes\", \"Gabrielle Aplin\", \"Girls Aloud\", \n",
    "               \"Gloria Estefan\", \"Grace Jones\", \"Grimes\", \"Gwen Stefani\", \"Halsey\", \"H.E.R.\", \"Iggy Azalea\", \n",
    "               \"Imogen Heap\", \"Ivy Sole\", \"Jamelia\", \"Jamila Woods\", \"Janelle Monae\", \n",
    "               \"Janis Joplin\", \"Janet Jackson\", \"Jennifer Hudson\", \"Jennifer Lopez\", \"Jess Glynne\", \n",
    "               \"Jessie J\", \"Jessie Reyes\", \"Jessie Ware\", \"Jhené Aiko\", \"Jill Scott\", \n",
    "               \"Joan As Police Woman\", \"Joan Baez\", \"Joanna Newsom\", \"Joni Mitchell\", \n",
    "               \"Joss Stone\", \"Julie Michaels\", \"Kacey Musgraves\", \"Kacy Hill\", \"Kadhja Bonet\", \n",
    "               \"Kali Uchis\", \"Kate Bush\", \"Kate Tempest\", \"Katie Melua\", \"Katy B\", \"Katy Perry\", \n",
    "               \"Kehlani\", \"Kelela\", \"Kelis\", \"Kelly Clarkson\", \"Kelly Rowland\", \"Kelsey Lu\", \n",
    "               \"Kesha\", \"Keyshia Cole\", \"Kim Wilde\", \"Kylie Minogue\", \"La Roux\", \"Lady Gaga\", \n",
    "               \"Lana Del Rey\", \"Laura Marling\", \"Laura Mvula\", \"Laurie Anderson\", \"Lauryn Hill\", \n",
    "               \"Leona Lewis\", \"Lianne La Havas\", \"Lily Allen\", \"Lisa Gerard\", \"Lisa Stansfield\", \n",
    "               \"Little Mix\", \"Little Simz\", \"Lizzo\", \"Lorde\", \"Lucy Dacus\", \"Lykke Li\", \"Mabel\", \n",
    "               \"Macy Gray\", \"Madonna\", \"Madeleine Peyroux\", \"Mahalia\", \"Mariah Carey\", \"Marina\", \n",
    "               \"Mary J. Blige\", \"Megan Thee Stalion\", \"Meghan Trainor\", \"Melody Gardot\", \"M.I.A.\", \n",
    "               \"Michelle Branch\", \"Miley Cyrus\", \"Missy Elliott\", \"Mitski\", \"Monica\", \"Nadine Shah\", \n",
    "               \"Nancy Sinatra\", \"Nao\", \"Nelly Furtado\", \"Neneh Cherry\", \"Nicki Minaj\", \n",
    "               \"Nina Simone\", \"Noname\", \"Norah Jones\", \"Olivia Newton-John\", \"Paloma Faith\", \n",
    "               \"Patti LaBelle\", \"Patti Smith\", \"Peaches\", \"Phoebe Bridgers\", \"Pink\", \"PJ Harvey\", \n",
    "               \"The Pussycat Dolls\", \"Queen Latifah\", \"Rae Morris\", \"Rihanna\", \"Rita Ora\", \"Robyn\", \n",
    "               \"Róisín Murphy\", \"Sabrina Claudio\", \"Sade\", \"Sampa the Great\", \"Sara Bareilles\", \n",
    "               \"Sarah McLachlan\", \"Sarah Vaughan\", \"Selena Gomez\", \"Shakira\", \"Shania Twain\", \n",
    "               \"Sharon Jones\", \"Sharon Van Etten\", \"Shura\", \"Sia\", \"Sid\", \"Sinéad O'Connor\", \n",
    "               \"Sky Ferreira\", \"Soccer Mommy\", \"Solange\", \"Spice Girls\", \"St. Vincent\", \n",
    "               \"Sudan Archives\", \"Sugababes\", \"The Supremes\", \"Suzanne Vega\", \"SZA\", \"Tamia\", \n",
    "               \"Taylor Swift\", \"Tegan & Sara\", \"Tei Shi\", \"Teyana Taylor\", \"Tina Turner\", \n",
    "               \"Tinashe\", \"TLC\", \"Tracy Chapman\", \"Toni Braxton\", \"Tori Amos\", \"Vanjess\", \n",
    "               \"Whitney Houston\", \"Zara Larsson\"]"
   ]
  },
  {
   "cell_type": "code",
   "execution_count": 8,
   "metadata": {},
   "outputs": [],
   "source": [
    "\n",
    "geniusCreds = \"BRQeE9cIku1YupjujKosfrg9jo9IJE_bAk_-zsvYT305X0d1xWBHLrnJ11PbY4oS\""
   ]
  },
  {
   "cell_type": "code",
   "execution_count": 88,
   "metadata": {},
   "outputs": [],
   "source": [
    "api = genius.Genius(geniusCreds, verbose =False, excluded_terms = [\"Remix\", \"edit\", \"(Acoustic)\", \"Rework\", \"(Live)\", \"(Demo)\", \"TBA\", \"FULL LENGTH\", \"Billboard\", \"BBC\", \"bootleg\", 'فارسی', \"Türkçe\", \"Aşk Şarkısı\" ], remove_section_headers = True, skip_non_songs = True)"
   ]
  },
  {
   "cell_type": "code",
   "execution_count": null,
   "metadata": {},
   "outputs": [
    {
     "data": {
      "application/vnd.jupyter.widget-view+json": {
       "model_id": "d319ee0e3c884b6bbd8f3532aee7dffa",
       "version_major": 2,
       "version_minor": 0
      },
      "text/plain": [
       "HBox(children=(FloatProgress(value=0.0, max=221.0), HTML(value='')))"
      ]
     },
     "metadata": {},
     "output_type": "display_data"
    },
    {
     "name": "stdout",
     "output_type": "stream",
     "text": [
      "Wrote `Lyrics_AlanisMorissette.json`\n",
      "Alanis Morissette json saved\n",
      "Wrote `Lyrics_AliciaKeys.json`\n",
      "Alicia Keys json saved\n",
      "Wrote `Lyrics_AlisonMoyet.json`\n",
      "Alison Moyet json saved\n",
      "Wrote `Lyrics_AllSaints.json`\n",
      "All Saints json saved\n",
      "Wrote `Lyrics_AmyMacDonald.json`\n",
      "Amy Macdonald json saved\n",
      "Wrote `Lyrics_AmyWinehouse.json`\n",
      "Amy Winehouse json saved\n",
      "Wrote `Lyrics_AngelOlsen.json`\n",
      "Angel Olsen json saved\n",
      "Wrote `Lyrics_AngieStone.json`\n",
      "Angie Stone json saved\n",
      "Wrote `Lyrics_AniDiFranco.json`\n",
      "Ani DiFranco json saved\n",
      "Wrote `Lyrics_AnnaCalvi.json`\n",
      "Anna Calvi json saved\n",
      "Wrote `Lyrics_AnnaWise.json`\n",
      "Anna Wise json saved\n",
      "Wrote `Lyrics_AnneMarie.json`\n",
      "Anne-Marie json saved\n"
     ]
    }
   ],
   "source": [
    "def crawler(lst):\n",
    "    for name in tqdm(lst):\n",
    "        maindata = pd.DataFrame()\n",
    "        artist = api.search_artist(name)\n",
    "        artist.save_lyrics()\n",
    "        print(str(name) + \" json saved\")\n",
    "crawler(artist_list)"
   ]
  },
  {
   "cell_type": "code",
   "execution_count": 85,
   "metadata": {
    "collapsed": true,
    "jupyter": {
     "outputs_hidden": true
    }
   },
   "outputs": [
    {
     "data": {
      "application/vnd.jupyter.widget-view+json": {
       "model_id": "8d3d096c00dc4f91908708c7c8a5facd",
       "version_major": 2,
       "version_minor": 0
      },
      "text/plain": [
       "HBox(children=(FloatProgress(value=0.0, max=2.0), HTML(value='')))"
      ]
     },
     "metadata": {},
     "output_type": "display_data"
    },
    {
     "name": "stdout",
     "output_type": "stream",
     "text": [
      "Searching for songs by Jorja Smith...\n",
      "\n",
      "Song 1: \"Blue Lights\"\n",
      "Song 2: \"Don’t Watch Me Cry\"\n",
      "Song 3: \"Let Me Down\"\n",
      "Song 4: \"On My Mind\"\n",
      "Song 5: \"Be Honest\"\n",
      "Song 6: \"I Am\"\n",
      "Song 7: \"Teenage Fantasy\"\n",
      "Song 8: \"Something in the Way\"\n",
      "Song 9: \"The One\"\n",
      "Song 10: \"Goodbyes\"\n",
      "Song 11: \"February 3rd\"\n",
      "Song 12: \"Where Did I Go?\"\n",
      "Song 13: \"Carry Me Home\"\n",
      "Song 14: \"Lost & Found\"\n",
      "Song 15: \"Tomorrow\"\n",
      "Song 16: \"So Lonely\"\n",
      "Song 17: \"On Your Own\"\n",
      "Song 18: \"Fine Lines\"\n",
      "Song 19: \"Wandering Romance\"\n",
      "Song 20: \"A Prince\"\n",
      "Song 21: \"Beautiful Little Fools\"\n",
      "Song 22: \"Carry Me Home (Interlude)\"\n",
      "Song 23: \"Lifeboats (Freestyle)\"\n",
      "Song 24: \"Lost\"\n",
      "Song 25: \"Imperfect Circle\"\n",
      "\"Flowers in the Live Lounge\" is not valid. Skipping.\n",
      "\"Location (Jorja Smith & Wretch 32 Remix)\" is not valid. Skipping.\n",
      "\"Blue Lights (French Remix)\" is not valid. Skipping.\n",
      "\"OVO Sound Radio Episode 69 Tracklist\" is not valid. Skipping.\n",
      "Song 26: \"Loving You\"\n",
      "\"Be Honest (Cadenza & AoD Remix)\" is not valid. Skipping.\n",
      "Song 27: \"The One (Radio Edit)\"\n",
      "Song 28: \"On My Mind (Preditah Vip Mix)\"\n",
      "Song 29: \"I Can’t Be My Old Self Forever\"\n",
      "Song 30: \"Broken*\"\n",
      "Song 31: \"Go On\"\n",
      "Song 32: \"VIRTUAL REALITY REVOLUTIONIZES CONCERTS: NEXT UP IS POST MALONE\"\n",
      "\"Be Honest (Acoustic)\" is not valid. Skipping.\n",
      "\"Skin (Live from the BRITs 2018)\" is not valid. Skipping.\n",
      "\"Love (Goodbyes Reprise) [Conducta Remix]\" is not valid. Skipping.\n",
      "\"The One (High Contrast Remix)\" is not valid. Skipping.\n",
      "Song 33: \"Make It Right\"\n",
      "\"Love (Goodbyes Reprise) [Toddla T Remix]\" is not valid. Skipping.\n",
      "Song 34: \"Losing God\"\n",
      "Song 35: \"No Love\"\n",
      "Song 36: \"Ghetto Kyote Freestyle\"\n",
      "\"The One (Spyro Remix)\" is not valid. Skipping.\n",
      "\"Let Me Down (Live/Solo)\" is not valid. Skipping.\n",
      "\"Slow Down (Acoustic)\" is not valid. Skipping.\n",
      "Song 37: \"Luchini AKA This is It\"\n",
      "Done. Found 37 songs.\n"
     ]
    },
    {
     "name": "stdin",
     "output_type": "stream",
     "text": [
      "Lyrics_JorjaSmith.json already exists. Overwrite?\n",
      "(y/n):  y\n"
     ]
    },
    {
     "name": "stdout",
     "output_type": "stream",
     "text": [
      "Wrote `Lyrics_JorjaSmith.json`\n"
     ]
    },
    {
     "ename": "TypeError",
     "evalue": "expected str, bytes or os.PathLike object, not NoneType",
     "output_type": "error",
     "traceback": [
      "\u001b[0;31m---------------------------------------------------------------------------\u001b[0m",
      "\u001b[0;31mTypeError\u001b[0m                                 Traceback (most recent call last)",
      "\u001b[0;32m<ipython-input-85-892eea444b7c>\u001b[0m in \u001b[0;36m<module>\u001b[0;34m\u001b[0m\n\u001b[1;32m     27\u001b[0m     \u001b[0mprint\u001b[0m\u001b[0;34m(\u001b[0m\u001b[0;34m\"Finished!!!!!\"\u001b[0m\u001b[0;34m)\u001b[0m\u001b[0;34m\u001b[0m\u001b[0;34m\u001b[0m\u001b[0m\n\u001b[1;32m     28\u001b[0m \u001b[0;34m\u001b[0m\u001b[0m\n\u001b[0;32m---> 29\u001b[0;31m \u001b[0mcrawler\u001b[0m\u001b[0;34m(\u001b[0m\u001b[0mtest_lst\u001b[0m\u001b[0;34m)\u001b[0m\u001b[0;34m\u001b[0m\u001b[0;34m\u001b[0m\u001b[0m\n\u001b[0m",
      "\u001b[0;32m<ipython-input-85-892eea444b7c>\u001b[0m in \u001b[0;36mcrawler\u001b[0;34m(lst)\u001b[0m\n\u001b[1;32m      5\u001b[0m         \u001b[0msaved\u001b[0m \u001b[0;34m=\u001b[0m \u001b[0martist\u001b[0m\u001b[0;34m.\u001b[0m\u001b[0msave_lyrics\u001b[0m\u001b[0;34m(\u001b[0m\u001b[0;34m)\u001b[0m\u001b[0;34m\u001b[0m\u001b[0;34m\u001b[0m\u001b[0m\n\u001b[1;32m      6\u001b[0m \u001b[0;34m\u001b[0m\u001b[0m\n\u001b[0;32m----> 7\u001b[0;31m         \u001b[0;32mwith\u001b[0m \u001b[0mopen\u001b[0m\u001b[0;34m(\u001b[0m\u001b[0msaved\u001b[0m\u001b[0;34m)\u001b[0m \u001b[0;32mas\u001b[0m \u001b[0mjson_data\u001b[0m\u001b[0;34m:\u001b[0m\u001b[0;34m\u001b[0m\u001b[0;34m\u001b[0m\u001b[0m\n\u001b[0m\u001b[1;32m      8\u001b[0m             \u001b[0mdata\u001b[0m \u001b[0;34m=\u001b[0m \u001b[0mjson\u001b[0m\u001b[0;34m.\u001b[0m\u001b[0mload\u001b[0m\u001b[0;34m(\u001b[0m\u001b[0mjson_data\u001b[0m\u001b[0;34m)\u001b[0m\u001b[0;34m\u001b[0m\u001b[0;34m\u001b[0m\u001b[0m\n\u001b[1;32m      9\u001b[0m \u001b[0;34m\u001b[0m\u001b[0m\n",
      "\u001b[0;31mTypeError\u001b[0m: expected str, bytes or os.PathLike object, not NoneType"
     ]
    }
   ],
   "source": [
    "        with open() as json_data:\n",
    "            data = json.load(json_data)\n",
    "            \n",
    "            songs = data.get(\"songs\")\n",
    "            songs_df = pd.DataFrame(songs)\n",
    "                  \n",
    "            songs_df.drop(['annotation_count', 'api_path', 'apple_music_player_url', \n",
    "               'description', 'embed_content', 'featured_video', 'full_title', 'header_image_thumbnail_url',\n",
    "               'header_image_url', 'lyrics_owner_id', 'lyrics_state', 'path',\n",
    "               'pyongs_count', 'recording_location', 'release_date',\n",
    "               'release_date_for_display', 'song_art_image_thumbnail_url',\n",
    "               'song_art_image_url', 'stats', 'title_with_featured', 'url',\n",
    "               'current_user_metadata', 'custom_performances',\n",
    "               'description_annotation', 'primary_artists',\n",
    "               'lyrics_marked_complete_by', 'media', 'verified_annotations_by',\n",
    "               'verified_contributors', 'verified_lyrics_by', 'fact_track'], axis=1, inplace=True)\n",
    "            \n",
    "            songs_df[\"artist_name\"] = data.get(\"name\")\n",
    "        maindata = pd.concat([maindata, songs_df])\n",
    "        \n",
    "    print(\"Finished!!!!!\")\n",
    "            \n"
   ]
  },
  {
   "cell_type": "code",
   "execution_count": 84,
   "metadata": {},
   "outputs": [
    {
     "data": {
      "text/plain": [
       "(1, 42)"
      ]
     },
     "execution_count": 84,
     "metadata": {},
     "output_type": "execute_result"
    }
   ],
   "source": [
    "from pandas.io.json import json_normalize\n",
    "\n",
    "lyrics_test = pd.json_normalize(data)\n",
    "\n"
   ]
  },
  {
   "cell_type": "code",
   "execution_count": 57,
   "metadata": {},
   "outputs": [
    {
     "name": "stdout",
     "output_type": "stream",
     "text": [
      "Adele\n"
     ]
    }
   ],
   "source": [
    "with open('Lyrics_Adele.json') as json_data:\n",
    "    data = json.load(json_data)\n",
    "    print(data.get(\"name\"))"
   ]
  },
  {
   "cell_type": "code",
   "execution_count": 72,
   "metadata": {},
   "outputs": [
    {
     "data": {
      "text/html": [
       "<div>\n",
       "<style scoped>\n",
       "    .dataframe tbody tr th:only-of-type {\n",
       "        vertical-align: middle;\n",
       "    }\n",
       "\n",
       "    .dataframe tbody tr th {\n",
       "        vertical-align: top;\n",
       "    }\n",
       "\n",
       "    .dataframe thead th {\n",
       "        text-align: right;\n",
       "    }\n",
       "</style>\n",
       "<table border=\"1\" class=\"dataframe\">\n",
       "  <thead>\n",
       "    <tr style=\"text-align: right;\">\n",
       "      <th></th>\n",
       "      <th>apple_music_id</th>\n",
       "      <th>id</th>\n",
       "      <th>title</th>\n",
       "      <th>primary_artist</th>\n",
       "      <th>producer_artists</th>\n",
       "      <th>song_relationships</th>\n",
       "      <th>writer_artists</th>\n",
       "      <th>lyrics</th>\n",
       "    </tr>\n",
       "  </thead>\n",
       "  <tbody>\n",
       "    <tr>\n",
       "      <th>0</th>\n",
       "      <td>1051394215</td>\n",
       "      <td>2332455</td>\n",
       "      <td>Hello</td>\n",
       "      <td>{'api_path': '/artists/2300', 'header_image_ur...</td>\n",
       "      <td>[{'api_path': '/artists/55444', 'header_image_...</td>\n",
       "      <td>[{'relationship_type': 'samples', 'type': 'sam...</td>\n",
       "      <td>[{'api_path': '/artists/2300', 'header_image_u...</td>\n",
       "      <td>Hello, it's me\\nI was wondering if after all t...</td>\n",
       "    </tr>\n",
       "    <tr>\n",
       "      <th>1</th>\n",
       "      <td>420075185</td>\n",
       "      <td>51294</td>\n",
       "      <td>Someone Like You</td>\n",
       "      <td>{'api_path': '/artists/2300', 'header_image_ur...</td>\n",
       "      <td>[{'api_path': '/artists/2300', 'header_image_u...</td>\n",
       "      <td>[{'relationship_type': 'samples', 'type': 'sam...</td>\n",
       "      <td>[{'api_path': '/artists/27795', 'header_image_...</td>\n",
       "      <td>I heard that you're settled down\\nThat you fou...</td>\n",
       "    </tr>\n",
       "    <tr>\n",
       "      <th>2</th>\n",
       "      <td>1051394224</td>\n",
       "      <td>2336628</td>\n",
       "      <td>When We Were Young</td>\n",
       "      <td>{'api_path': '/artists/2300', 'header_image_ur...</td>\n",
       "      <td>[{'api_path': '/artists/42625', 'header_image_...</td>\n",
       "      <td>[{'relationship_type': 'samples', 'type': 'sam...</td>\n",
       "      <td>[{'api_path': '/artists/246245', 'header_image...</td>\n",
       "      <td>Everybody loves the things you do\\nFrom the wa...</td>\n",
       "    </tr>\n",
       "    <tr>\n",
       "      <th>3</th>\n",
       "      <td>1051394817</td>\n",
       "      <td>2336647</td>\n",
       "      <td>All I Ask</td>\n",
       "      <td>{'api_path': '/artists/2300', 'header_image_ur...</td>\n",
       "      <td>[{'api_path': '/artists/27679', 'header_image_...</td>\n",
       "      <td>[{'relationship_type': 'samples', 'type': 'sam...</td>\n",
       "      <td>[{'api_path': '/artists/47127', 'header_image_...</td>\n",
       "      <td>I will leave my heart at the door\\nI won't say...</td>\n",
       "    </tr>\n",
       "    <tr>\n",
       "      <th>4</th>\n",
       "      <td>420075084</td>\n",
       "      <td>61289</td>\n",
       "      <td>Rolling in the Deep</td>\n",
       "      <td>{'api_path': '/artists/2300', 'header_image_ur...</td>\n",
       "      <td>[{'api_path': '/artists/27791', 'header_image_...</td>\n",
       "      <td>[{'relationship_type': 'samples', 'type': 'sam...</td>\n",
       "      <td>[{'api_path': '/artists/27791', 'header_image_...</td>\n",
       "      <td>There's a fire starting in my heart\\nReaching ...</td>\n",
       "    </tr>\n",
       "    <tr>\n",
       "      <th>...</th>\n",
       "      <td>...</td>\n",
       "      <td>...</td>\n",
       "      <td>...</td>\n",
       "      <td>...</td>\n",
       "      <td>...</td>\n",
       "      <td>...</td>\n",
       "      <td>...</td>\n",
       "      <td>...</td>\n",
       "    </tr>\n",
       "    <tr>\n",
       "      <th>63</th>\n",
       "      <td>None</td>\n",
       "      <td>5349043</td>\n",
       "      <td>Saviour</td>\n",
       "      <td>{'api_path': '/artists/2300', 'header_image_ur...</td>\n",
       "      <td>[{'api_path': '/artists/27791', 'header_image_...</td>\n",
       "      <td>[{'relationship_type': 'samples', 'type': 'sam...</td>\n",
       "      <td>[{'api_path': '/artists/2300', 'header_image_u...</td>\n",
       "      <td>\\n            Lyrics for this song h...</td>\n",
       "    </tr>\n",
       "    <tr>\n",
       "      <th>64</th>\n",
       "      <td>None</td>\n",
       "      <td>5348957</td>\n",
       "      <td>Forever and a Day</td>\n",
       "      <td>{'api_path': '/artists/2300', 'header_image_ur...</td>\n",
       "      <td>[]</td>\n",
       "      <td>[{'relationship_type': 'samples', 'type': 'sam...</td>\n",
       "      <td>[{'api_path': '/artists/2300', 'header_image_u...</td>\n",
       "      <td>\\n            Lyrics for this song h...</td>\n",
       "    </tr>\n",
       "    <tr>\n",
       "      <th>65</th>\n",
       "      <td>None</td>\n",
       "      <td>5348975</td>\n",
       "      <td>Haunted Skies</td>\n",
       "      <td>{'api_path': '/artists/2300', 'header_image_ur...</td>\n",
       "      <td>[{'api_path': '/artists/27791', 'header_image_...</td>\n",
       "      <td>[{'relationship_type': 'samples', 'type': 'sam...</td>\n",
       "      <td>[{'api_path': '/artists/27791', 'header_image_...</td>\n",
       "      <td>\\n            Lyrics for this song h...</td>\n",
       "    </tr>\n",
       "    <tr>\n",
       "      <th>66</th>\n",
       "      <td>None</td>\n",
       "      <td>5349030</td>\n",
       "      <td>Run Away</td>\n",
       "      <td>{'api_path': '/artists/2300', 'header_image_ur...</td>\n",
       "      <td>[]</td>\n",
       "      <td>[{'relationship_type': 'samples', 'type': 'sam...</td>\n",
       "      <td>[{'api_path': '/artists/40053', 'header_image_...</td>\n",
       "      <td>\\n            Lyrics for this song h...</td>\n",
       "    </tr>\n",
       "    <tr>\n",
       "      <th>67</th>\n",
       "      <td>None</td>\n",
       "      <td>5349050</td>\n",
       "      <td>She</td>\n",
       "      <td>{'api_path': '/artists/2300', 'header_image_ur...</td>\n",
       "      <td>[]</td>\n",
       "      <td>[{'relationship_type': 'samples', 'type': 'sam...</td>\n",
       "      <td>[{'api_path': '/artists/2300', 'header_image_u...</td>\n",
       "      <td>\\n            Lyrics for this song h...</td>\n",
       "    </tr>\n",
       "  </tbody>\n",
       "</table>\n",
       "<p>68 rows × 8 columns</p>\n",
       "</div>"
      ],
      "text/plain": [
       "   apple_music_id       id                title  \\\n",
       "0      1051394215  2332455                Hello   \n",
       "1       420075185    51294     Someone Like You   \n",
       "2      1051394224  2336628   When We Were Young   \n",
       "3      1051394817  2336647            All I Ask   \n",
       "4       420075084    61289  Rolling in the Deep   \n",
       "..            ...      ...                  ...   \n",
       "63           None  5349043              Saviour   \n",
       "64           None  5348957    Forever and a Day   \n",
       "65           None  5348975        Haunted Skies   \n",
       "66           None  5349030             Run Away   \n",
       "67           None  5349050                  She   \n",
       "\n",
       "                                       primary_artist  \\\n",
       "0   {'api_path': '/artists/2300', 'header_image_ur...   \n",
       "1   {'api_path': '/artists/2300', 'header_image_ur...   \n",
       "2   {'api_path': '/artists/2300', 'header_image_ur...   \n",
       "3   {'api_path': '/artists/2300', 'header_image_ur...   \n",
       "4   {'api_path': '/artists/2300', 'header_image_ur...   \n",
       "..                                                ...   \n",
       "63  {'api_path': '/artists/2300', 'header_image_ur...   \n",
       "64  {'api_path': '/artists/2300', 'header_image_ur...   \n",
       "65  {'api_path': '/artists/2300', 'header_image_ur...   \n",
       "66  {'api_path': '/artists/2300', 'header_image_ur...   \n",
       "67  {'api_path': '/artists/2300', 'header_image_ur...   \n",
       "\n",
       "                                     producer_artists  \\\n",
       "0   [{'api_path': '/artists/55444', 'header_image_...   \n",
       "1   [{'api_path': '/artists/2300', 'header_image_u...   \n",
       "2   [{'api_path': '/artists/42625', 'header_image_...   \n",
       "3   [{'api_path': '/artists/27679', 'header_image_...   \n",
       "4   [{'api_path': '/artists/27791', 'header_image_...   \n",
       "..                                                ...   \n",
       "63  [{'api_path': '/artists/27791', 'header_image_...   \n",
       "64                                                 []   \n",
       "65  [{'api_path': '/artists/27791', 'header_image_...   \n",
       "66                                                 []   \n",
       "67                                                 []   \n",
       "\n",
       "                                   song_relationships  \\\n",
       "0   [{'relationship_type': 'samples', 'type': 'sam...   \n",
       "1   [{'relationship_type': 'samples', 'type': 'sam...   \n",
       "2   [{'relationship_type': 'samples', 'type': 'sam...   \n",
       "3   [{'relationship_type': 'samples', 'type': 'sam...   \n",
       "4   [{'relationship_type': 'samples', 'type': 'sam...   \n",
       "..                                                ...   \n",
       "63  [{'relationship_type': 'samples', 'type': 'sam...   \n",
       "64  [{'relationship_type': 'samples', 'type': 'sam...   \n",
       "65  [{'relationship_type': 'samples', 'type': 'sam...   \n",
       "66  [{'relationship_type': 'samples', 'type': 'sam...   \n",
       "67  [{'relationship_type': 'samples', 'type': 'sam...   \n",
       "\n",
       "                                       writer_artists  \\\n",
       "0   [{'api_path': '/artists/2300', 'header_image_u...   \n",
       "1   [{'api_path': '/artists/27795', 'header_image_...   \n",
       "2   [{'api_path': '/artists/246245', 'header_image...   \n",
       "3   [{'api_path': '/artists/47127', 'header_image_...   \n",
       "4   [{'api_path': '/artists/27791', 'header_image_...   \n",
       "..                                                ...   \n",
       "63  [{'api_path': '/artists/2300', 'header_image_u...   \n",
       "64  [{'api_path': '/artists/2300', 'header_image_u...   \n",
       "65  [{'api_path': '/artists/27791', 'header_image_...   \n",
       "66  [{'api_path': '/artists/40053', 'header_image_...   \n",
       "67  [{'api_path': '/artists/2300', 'header_image_u...   \n",
       "\n",
       "                                               lyrics  \n",
       "0   Hello, it's me\\nI was wondering if after all t...  \n",
       "1   I heard that you're settled down\\nThat you fou...  \n",
       "2   Everybody loves the things you do\\nFrom the wa...  \n",
       "3   I will leave my heart at the door\\nI won't say...  \n",
       "4   There's a fire starting in my heart\\nReaching ...  \n",
       "..                                                ...  \n",
       "63            \\n            Lyrics for this song h...  \n",
       "64            \\n            Lyrics for this song h...  \n",
       "65            \\n            Lyrics for this song h...  \n",
       "66            \\n            Lyrics for this song h...  \n",
       "67            \\n            Lyrics for this song h...  \n",
       "\n",
       "[68 rows x 8 columns]"
      ]
     },
     "execution_count": 72,
     "metadata": {},
     "output_type": "execute_result"
    }
   ],
   "source": [
    "songs = data.get(\"songs\")\n",
    "songs_df = pd.DataFrame(songs)\n",
    "songs_df.drop(['annotation_count', 'api_path', 'apple_music_player_url', \n",
    "               'description', 'embed_content', 'featured_video', 'full_title', 'header_image_thumbnail_url',\n",
    "               'header_image_url', 'lyrics_owner_id', 'lyrics_state', 'path',\n",
    "               'pyongs_count', 'recording_location', 'release_date',\n",
    "               'release_date_for_display', 'song_art_image_thumbnail_url',\n",
    "               'song_art_image_url', 'stats', 'title_with_featured', 'url',\n",
    "               'current_user_metadata', 'album', 'custom_performances',\n",
    "               'description_annotation', 'featured_artists',\n",
    "               'lyrics_marked_complete_by', 'media', 'verified_annotations_by',\n",
    "               'verified_contributors', 'verified_lyrics_by', 'fact_track'], axis=1)"
   ]
  },
  {
   "cell_type": "code",
   "execution_count": 66,
   "metadata": {},
   "outputs": [
    {
     "data": {
      "text/plain": [
       "Index(['annotation_count', 'api_path', 'apple_music_id',\n",
       "       'apple_music_player_url', 'description', 'embed_content',\n",
       "       'featured_video', 'full_title', 'header_image_thumbnail_url',\n",
       "       'header_image_url', 'id', 'lyrics_owner_id', 'lyrics_state', 'path',\n",
       "       'pyongs_count', 'recording_location', 'release_date',\n",
       "       'release_date_for_display', 'song_art_image_thumbnail_url',\n",
       "       'song_art_image_url', 'stats', 'title', 'title_with_featured', 'url',\n",
       "       'current_user_metadata', 'album', 'custom_performances',\n",
       "       'description_annotation', 'featured_artists',\n",
       "       'lyrics_marked_complete_by', 'media', 'primary_artist',\n",
       "       'producer_artists', 'song_relationships', 'verified_annotations_by',\n",
       "       'verified_contributors', 'verified_lyrics_by', 'writer_artists',\n",
       "       'lyrics', 'fact_track'],\n",
       "      dtype='object')"
      ]
     },
     "execution_count": 66,
     "metadata": {},
     "output_type": "execute_result"
    }
   ],
   "source": [
    "songs_df.columns"
   ]
  },
  {
   "cell_type": "code",
   "execution_count": 69,
   "metadata": {},
   "outputs": [
    {
     "data": {
      "text/plain": [
       "0    Hello, it's me\\nI was wondering if after all t...\n",
       "1    I heard that you're settled down\\nThat you fou...\n",
       "2    Everybody loves the things you do\\nFrom the wa...\n",
       "3    I will leave my heart at the door\\nI won't say...\n",
       "4    There's a fire starting in my heart\\nReaching ...\n",
       "Name: lyrics, dtype: object"
      ]
     },
     "execution_count": 69,
     "metadata": {},
     "output_type": "execute_result"
    }
   ],
   "source": [
    "songs_df[\"lyrics\"].head(5)"
   ]
  },
  {
   "cell_type": "code",
   "execution_count": 38,
   "metadata": {},
   "outputs": [
    {
     "ename": "KeyError",
     "evalue": "'title'",
     "output_type": "error",
     "traceback": [
      "\u001b[0;31m---------------------------------------------------------------------------\u001b[0m",
      "\u001b[0;31mKeyError\u001b[0m                                  Traceback (most recent call last)",
      "\u001b[0;32m<ipython-input-38-126de19919a1>\u001b[0m in \u001b[0;36m<module>\u001b[0;34m\u001b[0m\n\u001b[1;32m     18\u001b[0m     \u001b[0mprint\u001b[0m\u001b[0;34m(\u001b[0m\u001b[0mcollectSongData\u001b[0m\u001b[0;34m(\u001b[0m\u001b[0mArtist\u001b[0m\u001b[0;34m[\u001b[0m\u001b[0;34m'songs'\u001b[0m\u001b[0;34m]\u001b[0m\u001b[0;34m[\u001b[0m\u001b[0;36m5\u001b[0m\u001b[0;34m]\u001b[0m\u001b[0;34m)\u001b[0m\u001b[0;34m)\u001b[0m \u001b[0;31m#check function works\u001b[0m\u001b[0;34m\u001b[0m\u001b[0;34m\u001b[0m\u001b[0m\n\u001b[1;32m     19\u001b[0m \u001b[0;34m\u001b[0m\u001b[0m\n\u001b[0;32m---> 20\u001b[0;31m \u001b[0mcollectSongData\u001b[0m\u001b[0;34m(\u001b[0m\u001b[0mdata\u001b[0m\u001b[0;34m)\u001b[0m\u001b[0;34m\u001b[0m\u001b[0;34m\u001b[0m\u001b[0m\n\u001b[0m",
      "\u001b[0;32m<ipython-input-38-126de19919a1>\u001b[0m in \u001b[0;36mcollectSongData\u001b[0;34m(adic)\u001b[0m\n\u001b[1;32m      3\u001b[0m \u001b[0;32mdef\u001b[0m \u001b[0mcollectSongData\u001b[0m\u001b[0;34m(\u001b[0m\u001b[0madic\u001b[0m\u001b[0;34m)\u001b[0m\u001b[0;34m:\u001b[0m\u001b[0;34m\u001b[0m\u001b[0;34m\u001b[0m\u001b[0m\n\u001b[1;32m      4\u001b[0m     \u001b[0mdps\u001b[0m \u001b[0;34m=\u001b[0m \u001b[0mlist\u001b[0m\u001b[0;34m(\u001b[0m\u001b[0;34m)\u001b[0m\u001b[0;34m\u001b[0m\u001b[0;34m\u001b[0m\u001b[0m\n\u001b[0;32m----> 5\u001b[0;31m     \u001b[0mtitle\u001b[0m \u001b[0;34m=\u001b[0m \u001b[0madic\u001b[0m\u001b[0;34m[\u001b[0m\u001b[0;34m'title'\u001b[0m\u001b[0;34m]\u001b[0m \u001b[0;31m#song title\u001b[0m\u001b[0;34m\u001b[0m\u001b[0;34m\u001b[0m\u001b[0m\n\u001b[0m\u001b[1;32m      6\u001b[0m     \u001b[0murl\u001b[0m \u001b[0;34m=\u001b[0m \u001b[0madic\u001b[0m\u001b[0;34m[\u001b[0m\u001b[0;34m'raw'\u001b[0m\u001b[0;34m]\u001b[0m\u001b[0;34m[\u001b[0m\u001b[0;34m'url'\u001b[0m\u001b[0;34m]\u001b[0m \u001b[0;31m#spotify url\u001b[0m\u001b[0;34m\u001b[0m\u001b[0;34m\u001b[0m\u001b[0m\n\u001b[1;32m      7\u001b[0m     \u001b[0martist\u001b[0m \u001b[0;34m=\u001b[0m \u001b[0madic\u001b[0m\u001b[0;34m[\u001b[0m\u001b[0;34m'artist'\u001b[0m\u001b[0;34m]\u001b[0m \u001b[0;31m#artist name(s)\u001b[0m\u001b[0;34m\u001b[0m\u001b[0;34m\u001b[0m\u001b[0m\n",
      "\u001b[0;31mKeyError\u001b[0m: 'title'"
     ]
    }
   ],
   "source": [
    "artist_dict = {}\n",
    "\n",
    "def collectSongData(adic):\n",
    "    dps = list()\n",
    "    title = adic['title'] #song title\n",
    "    url = adic['raw']['url'] #spotify url\n",
    "    artist = adic['artist'] #artist name(s)\n",
    "    song_id = adic['raw']['id'] #spotify id\n",
    "    lyrics = adic['lyrics'] #song lyrics\n",
    "    year = adic['year'] #release date\n",
    "    upload_date = adic['raw']['description_annotation']['annotatable']['client_timestamps']['lyrics_updated_at'] #lyrics upload date\n",
    "    annotations = adic['raw']['annotation_count'] #total no. of annotations\n",
    "    descr = adic['raw']['description'] #song descriptions\n",
    "    \n",
    "    dps.append((title,url,artist,song_id,lyrics,year,upload_date,annotations,descr)) #append all to one tuple list\n",
    "    artist_dict[title] = dps #assign list to song dictionary entry named after song title\n",
    "    \n",
    "    print(collectSongData(Artist['songs'][5])) #check function works\n",
    "    \n"
   ]
  }
 ],
 "metadata": {
  "kernelspec": {
   "display_name": "Python 3",
   "language": "python",
   "name": "python3"
  },
  "language_info": {
   "codemirror_mode": {
    "name": "ipython",
    "version": 3
   },
   "file_extension": ".py",
   "mimetype": "text/x-python",
   "name": "python",
   "nbconvert_exporter": "python",
   "pygments_lexer": "ipython3",
   "version": "3.7.6"
  }
 },
 "nbformat": 4,
 "nbformat_minor": 4
}
